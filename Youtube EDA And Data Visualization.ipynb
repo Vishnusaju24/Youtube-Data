{
 "cells": [
  {
   "cell_type": "markdown",
   "metadata": {},
   "source": [
    "# Importing the requried Packages"
   ]
  },
  {
   "cell_type": "code",
   "execution_count": 1,
   "metadata": {},
   "outputs": [],
   "source": [
    "import numpy as np\n",
    "import pandas as pd\n",
    "import seaborn as sns\n",
    "import matplotlib.pyplot as plt"
   ]
  },
  {
   "cell_type": "markdown",
   "metadata": {},
   "source": [
    "# Importing the dataset"
   ]
  },
  {
   "cell_type": "code",
   "execution_count": 3,
   "metadata": {},
   "outputs": [],
   "source": [
    "youtube = pd.read_csv(\"C://Users/Vishnu/Desktop/Tests/EDA Test Final/youtube.csv\")"
   ]
  },
  {
   "cell_type": "code",
   "execution_count": 4,
   "metadata": {},
   "outputs": [],
   "source": [
    "youtube = pd.DataFrame(youtube)"
   ]
  },
  {
   "cell_type": "code",
   "execution_count": 7,
   "metadata": {},
   "outputs": [
    {
     "data": {
      "text/html": [
       "<div>\n",
       "<style scoped>\n",
       "    .dataframe tbody tr th:only-of-type {\n",
       "        vertical-align: middle;\n",
       "    }\n",
       "\n",
       "    .dataframe tbody tr th {\n",
       "        vertical-align: top;\n",
       "    }\n",
       "\n",
       "    .dataframe thead th {\n",
       "        text-align: right;\n",
       "    }\n",
       "</style>\n",
       "<table border=\"1\" class=\"dataframe\">\n",
       "  <thead>\n",
       "    <tr style=\"text-align: right;\">\n",
       "      <th></th>\n",
       "      <th>Rank</th>\n",
       "      <th>Grade</th>\n",
       "      <th>Channel name</th>\n",
       "      <th>Video Uploads</th>\n",
       "      <th>Subscribers</th>\n",
       "      <th>Video views</th>\n",
       "    </tr>\n",
       "  </thead>\n",
       "  <tbody>\n",
       "    <tr>\n",
       "      <th>0</th>\n",
       "      <td>1st</td>\n",
       "      <td>A++</td>\n",
       "      <td>Zee TV</td>\n",
       "      <td>82757</td>\n",
       "      <td>18752951</td>\n",
       "      <td>20869786591</td>\n",
       "    </tr>\n",
       "    <tr>\n",
       "      <th>1</th>\n",
       "      <td>2nd</td>\n",
       "      <td>A++</td>\n",
       "      <td>T-Series</td>\n",
       "      <td>12661</td>\n",
       "      <td>61196302</td>\n",
       "      <td>47548839843</td>\n",
       "    </tr>\n",
       "    <tr>\n",
       "      <th>2</th>\n",
       "      <td>3rd</td>\n",
       "      <td>A++</td>\n",
       "      <td>Cocomelon - Nursery Rhymes</td>\n",
       "      <td>373</td>\n",
       "      <td>19238251</td>\n",
       "      <td>9793305082</td>\n",
       "    </tr>\n",
       "    <tr>\n",
       "      <th>3</th>\n",
       "      <td>4th</td>\n",
       "      <td>A++</td>\n",
       "      <td>SET India</td>\n",
       "      <td>27323</td>\n",
       "      <td>31180559</td>\n",
       "      <td>22675948293</td>\n",
       "    </tr>\n",
       "    <tr>\n",
       "      <th>4</th>\n",
       "      <td>5th</td>\n",
       "      <td>A++</td>\n",
       "      <td>WWE</td>\n",
       "      <td>36756</td>\n",
       "      <td>32852346</td>\n",
       "      <td>26273668433</td>\n",
       "    </tr>\n",
       "  </tbody>\n",
       "</table>\n",
       "</div>"
      ],
      "text/plain": [
       "  Rank Grade                Channel name Video Uploads Subscribers  \\\n",
       "0  1st  A++                       Zee TV         82757    18752951   \n",
       "1  2nd  A++                     T-Series         12661    61196302   \n",
       "2  3rd  A++   Cocomelon - Nursery Rhymes           373    19238251   \n",
       "3  4th  A++                    SET India         27323    31180559   \n",
       "4  5th  A++                          WWE         36756    32852346   \n",
       "\n",
       "   Video views  \n",
       "0  20869786591  \n",
       "1  47548839843  \n",
       "2   9793305082  \n",
       "3  22675948293  \n",
       "4  26273668433  "
      ]
     },
     "execution_count": 7,
     "metadata": {},
     "output_type": "execute_result"
    }
   ],
   "source": [
    "youtube.head()"
   ]
  },
  {
   "cell_type": "code",
   "execution_count": 8,
   "metadata": {},
   "outputs": [
    {
     "name": "stdout",
     "output_type": "stream",
     "text": [
      "<class 'pandas.core.frame.DataFrame'>\n",
      "RangeIndex: 5000 entries, 0 to 4999\n",
      "Data columns (total 6 columns):\n",
      "Rank             5000 non-null object\n",
      "Grade            5000 non-null object\n",
      "Channel name     5000 non-null object\n",
      "Video Uploads    5000 non-null object\n",
      "Subscribers      5000 non-null object\n",
      "Video views      5000 non-null int64\n",
      "dtypes: int64(1), object(5)\n",
      "memory usage: 234.5+ KB\n"
     ]
    }
   ],
   "source": [
    "youtube.info()\n"
   ]
  },
  {
   "cell_type": "markdown",
   "metadata": {},
   "source": [
    "#  To find the top 10 youtube channels as ordered by ‘number of subcribers’."
   ]
  },
  {
   "cell_type": "code",
   "execution_count": 9,
   "metadata": {},
   "outputs": [],
   "source": [
    "\n",
    "youtube[\"Subscribers\"] = youtube[\"Subscribers\"].replace(\"-- \",np.nan)"
   ]
  },
  {
   "cell_type": "code",
   "execution_count": 10,
   "metadata": {},
   "outputs": [],
   "source": [
    "youtube[\"Subscribers\"]= np.float_(youtube[\"Subscribers\"])"
   ]
  },
  {
   "cell_type": "code",
   "execution_count": 11,
   "metadata": {},
   "outputs": [
    {
     "data": {
      "text/html": [
       "<div>\n",
       "<style scoped>\n",
       "    .dataframe tbody tr th:only-of-type {\n",
       "        vertical-align: middle;\n",
       "    }\n",
       "\n",
       "    .dataframe tbody tr th {\n",
       "        vertical-align: top;\n",
       "    }\n",
       "\n",
       "    .dataframe thead th {\n",
       "        text-align: right;\n",
       "    }\n",
       "</style>\n",
       "<table border=\"1\" class=\"dataframe\">\n",
       "  <thead>\n",
       "    <tr style=\"text-align: right;\">\n",
       "      <th></th>\n",
       "      <th>Rank</th>\n",
       "      <th>Grade</th>\n",
       "      <th>Channel name</th>\n",
       "      <th>Video Uploads</th>\n",
       "      <th>Subscribers</th>\n",
       "      <th>Video views</th>\n",
       "    </tr>\n",
       "  </thead>\n",
       "  <tbody>\n",
       "    <tr>\n",
       "      <th>1470</th>\n",
       "      <td>1,471st</td>\n",
       "      <td>A-</td>\n",
       "      <td>PewDiePie</td>\n",
       "      <td>3601</td>\n",
       "      <td>65995310.0</td>\n",
       "      <td>18684630003</td>\n",
       "    </tr>\n",
       "    <tr>\n",
       "      <th>1</th>\n",
       "      <td>2nd</td>\n",
       "      <td>A++</td>\n",
       "      <td>T-Series</td>\n",
       "      <td>12661</td>\n",
       "      <td>61196302.0</td>\n",
       "      <td>47548839843</td>\n",
       "    </tr>\n",
       "    <tr>\n",
       "      <th>11</th>\n",
       "      <td>12th</td>\n",
       "      <td>A+</td>\n",
       "      <td>Canal KondZilla</td>\n",
       "      <td>822</td>\n",
       "      <td>39409726.0</td>\n",
       "      <td>19291034467</td>\n",
       "    </tr>\n",
       "    <tr>\n",
       "      <th>174</th>\n",
       "      <td>175th</td>\n",
       "      <td>A</td>\n",
       "      <td>Dude Perfect</td>\n",
       "      <td>185</td>\n",
       "      <td>34489432.0</td>\n",
       "      <td>6095981611</td>\n",
       "    </tr>\n",
       "    <tr>\n",
       "      <th>3222</th>\n",
       "      <td>3,223rd</td>\n",
       "      <td>B+</td>\n",
       "      <td>HolaSoyGerman.</td>\n",
       "      <td>137</td>\n",
       "      <td>34480357.0</td>\n",
       "      <td>3617584451</td>\n",
       "    </tr>\n",
       "    <tr>\n",
       "      <th>435</th>\n",
       "      <td>436th</td>\n",
       "      <td>A</td>\n",
       "      <td>JustinBieberVEVO</td>\n",
       "      <td>123</td>\n",
       "      <td>34284457.0</td>\n",
       "      <td>17806717170</td>\n",
       "    </tr>\n",
       "    <tr>\n",
       "      <th>63</th>\n",
       "      <td>64th</td>\n",
       "      <td>A</td>\n",
       "      <td>Ed Sheeran</td>\n",
       "      <td>122</td>\n",
       "      <td>33961184.0</td>\n",
       "      <td>14521211040</td>\n",
       "    </tr>\n",
       "    <tr>\n",
       "      <th>10</th>\n",
       "      <td>11th</td>\n",
       "      <td>A+</td>\n",
       "      <td>5-Minute Crafts</td>\n",
       "      <td>2085</td>\n",
       "      <td>33492951.0</td>\n",
       "      <td>8587520379</td>\n",
       "    </tr>\n",
       "    <tr>\n",
       "      <th>4</th>\n",
       "      <td>5th</td>\n",
       "      <td>A++</td>\n",
       "      <td>WWE</td>\n",
       "      <td>36756</td>\n",
       "      <td>32852346.0</td>\n",
       "      <td>26273668433</td>\n",
       "    </tr>\n",
       "    <tr>\n",
       "      <th>1942</th>\n",
       "      <td>1,943rd</td>\n",
       "      <td>A-</td>\n",
       "      <td>whinderssonnunes</td>\n",
       "      <td>349</td>\n",
       "      <td>31332790.0</td>\n",
       "      <td>2574018722</td>\n",
       "    </tr>\n",
       "  </tbody>\n",
       "</table>\n",
       "</div>"
      ],
      "text/plain": [
       "         Rank Grade      Channel name Video Uploads  Subscribers  Video views\n",
       "1470  1,471st   A-          PewDiePie          3601   65995310.0  18684630003\n",
       "1         2nd  A++           T-Series         12661   61196302.0  47548839843\n",
       "11       12th   A+    Canal KondZilla           822   39409726.0  19291034467\n",
       "174     175th    A       Dude Perfect           185   34489432.0   6095981611\n",
       "3222  3,223rd   B+     HolaSoyGerman.           137   34480357.0   3617584451\n",
       "435     436th    A   JustinBieberVEVO           123   34284457.0  17806717170\n",
       "63       64th    A         Ed Sheeran           122   33961184.0  14521211040\n",
       "10       11th   A+    5-Minute Crafts          2085   33492951.0   8587520379\n",
       "4         5th  A++                WWE         36756   32852346.0  26273668433\n",
       "1942  1,943rd   A-   whinderssonnunes           349   31332790.0   2574018722"
      ]
     },
     "execution_count": 11,
     "metadata": {},
     "output_type": "execute_result"
    }
   ],
   "source": [
    "youtube.sort_values(by=\"Subscribers\",ascending = False).head(10)"
   ]
  },
  {
   "cell_type": "markdown",
   "metadata": {},
   "source": [
    "# To generate a table which only contains data for channels which have less than 5000 video uploads."
   ]
  },
  {
   "cell_type": "code",
   "execution_count": 12,
   "metadata": {},
   "outputs": [],
   "source": [
    "youtube[\"Video Uploads\"] = youtube[\"Video Uploads\"].replace(\"--\",np.nan)"
   ]
  },
  {
   "cell_type": "code",
   "execution_count": 13,
   "metadata": {},
   "outputs": [],
   "source": [
    "youtube[\"Video Uploads\"]= np.float_(youtube[\"Video Uploads\"])"
   ]
  },
  {
   "cell_type": "code",
   "execution_count": 14,
   "metadata": {},
   "outputs": [
    {
     "data": {
      "text/html": [
       "<div>\n",
       "<style scoped>\n",
       "    .dataframe tbody tr th:only-of-type {\n",
       "        vertical-align: middle;\n",
       "    }\n",
       "\n",
       "    .dataframe tbody tr th {\n",
       "        vertical-align: top;\n",
       "    }\n",
       "\n",
       "    .dataframe thead th {\n",
       "        text-align: right;\n",
       "    }\n",
       "</style>\n",
       "<table border=\"1\" class=\"dataframe\">\n",
       "  <thead>\n",
       "    <tr style=\"text-align: right;\">\n",
       "      <th></th>\n",
       "      <th>Rank</th>\n",
       "      <th>Grade</th>\n",
       "      <th>Channel name</th>\n",
       "      <th>Video Uploads</th>\n",
       "      <th>Subscribers</th>\n",
       "      <th>Video views</th>\n",
       "    </tr>\n",
       "  </thead>\n",
       "  <tbody>\n",
       "    <tr>\n",
       "      <th>2</th>\n",
       "      <td>3rd</td>\n",
       "      <td>A++</td>\n",
       "      <td>Cocomelon - Nursery Rhymes</td>\n",
       "      <td>373.0</td>\n",
       "      <td>19238251.0</td>\n",
       "      <td>9793305082</td>\n",
       "    </tr>\n",
       "    <tr>\n",
       "      <th>8</th>\n",
       "      <td>9th</td>\n",
       "      <td>A++</td>\n",
       "      <td>Ryan ToysReview</td>\n",
       "      <td>1140.0</td>\n",
       "      <td>16082927.0</td>\n",
       "      <td>24518098041</td>\n",
       "    </tr>\n",
       "    <tr>\n",
       "      <th>10</th>\n",
       "      <td>11th</td>\n",
       "      <td>A+</td>\n",
       "      <td>5-Minute Crafts</td>\n",
       "      <td>2085.0</td>\n",
       "      <td>33492951.0</td>\n",
       "      <td>8587520379</td>\n",
       "    </tr>\n",
       "    <tr>\n",
       "      <th>11</th>\n",
       "      <td>12th</td>\n",
       "      <td>A+</td>\n",
       "      <td>Canal KondZilla</td>\n",
       "      <td>822.0</td>\n",
       "      <td>39409726.0</td>\n",
       "      <td>19291034467</td>\n",
       "    </tr>\n",
       "    <tr>\n",
       "      <th>12</th>\n",
       "      <td>13th</td>\n",
       "      <td>A+</td>\n",
       "      <td>Like Nastya Vlog</td>\n",
       "      <td>150.0</td>\n",
       "      <td>7662886.0</td>\n",
       "      <td>2540099931</td>\n",
       "    </tr>\n",
       "    <tr>\n",
       "      <th>13</th>\n",
       "      <td>14th</td>\n",
       "      <td>A+</td>\n",
       "      <td>Ozuna</td>\n",
       "      <td>50.0</td>\n",
       "      <td>18824912.0</td>\n",
       "      <td>8727783225</td>\n",
       "    </tr>\n",
       "    <tr>\n",
       "      <th>16</th>\n",
       "      <td>17th</td>\n",
       "      <td>A+</td>\n",
       "      <td>WORLDSTARHIPHOP</td>\n",
       "      <td>4778.0</td>\n",
       "      <td>15830098.0</td>\n",
       "      <td>11102158475</td>\n",
       "    </tr>\n",
       "    <tr>\n",
       "      <th>17</th>\n",
       "      <td>18th</td>\n",
       "      <td>A+</td>\n",
       "      <td>Vlad and Nikita</td>\n",
       "      <td>53.0</td>\n",
       "      <td>NaN</td>\n",
       "      <td>1428274554</td>\n",
       "    </tr>\n",
       "    <tr>\n",
       "      <th>18</th>\n",
       "      <td>19th</td>\n",
       "      <td>A+</td>\n",
       "      <td>Badabun</td>\n",
       "      <td>3060.0</td>\n",
       "      <td>23603062.0</td>\n",
       "      <td>5860444053</td>\n",
       "    </tr>\n",
       "    <tr>\n",
       "      <th>20</th>\n",
       "      <td>21st</td>\n",
       "      <td>A+</td>\n",
       "      <td>xxxtentacion</td>\n",
       "      <td>48.0</td>\n",
       "      <td>11593509.0</td>\n",
       "      <td>2029279311</td>\n",
       "    </tr>\n",
       "    <tr>\n",
       "      <th>21</th>\n",
       "      <td>22nd</td>\n",
       "      <td>A+</td>\n",
       "      <td>Zee Music Company</td>\n",
       "      <td>3403.0</td>\n",
       "      <td>23440427.0</td>\n",
       "      <td>11666909155</td>\n",
       "    </tr>\n",
       "    <tr>\n",
       "      <th>23</th>\n",
       "      <td>24th</td>\n",
       "      <td>A+</td>\n",
       "      <td>DeadloxMC</td>\n",
       "      <td>1833.0</td>\n",
       "      <td>2137907.0</td>\n",
       "      <td>245437560</td>\n",
       "    </tr>\n",
       "    <tr>\n",
       "      <th>26</th>\n",
       "      <td>27th</td>\n",
       "      <td>A+</td>\n",
       "      <td>ibighit</td>\n",
       "      <td>277.0</td>\n",
       "      <td>16924523.0</td>\n",
       "      <td>3437613314</td>\n",
       "    </tr>\n",
       "    <tr>\n",
       "      <th>27</th>\n",
       "      <td>28th</td>\n",
       "      <td>A+</td>\n",
       "      <td>El Reino Infantil</td>\n",
       "      <td>555.0</td>\n",
       "      <td>15836366.0</td>\n",
       "      <td>16395683234</td>\n",
       "    </tr>\n",
       "    <tr>\n",
       "      <th>29</th>\n",
       "      <td>30th</td>\n",
       "      <td>A+</td>\n",
       "      <td>Kirin AMV's</td>\n",
       "      <td>230.0</td>\n",
       "      <td>459906.0</td>\n",
       "      <td>224608044</td>\n",
       "    </tr>\n",
       "    <tr>\n",
       "      <th>31</th>\n",
       "      <td>32nd</td>\n",
       "      <td>A+</td>\n",
       "      <td>Stacy Toys</td>\n",
       "      <td>91.0</td>\n",
       "      <td>5992452.0</td>\n",
       "      <td>1576070985</td>\n",
       "    </tr>\n",
       "    <tr>\n",
       "      <th>32</th>\n",
       "      <td>33rd</td>\n",
       "      <td>A+</td>\n",
       "      <td>Toys and Colors</td>\n",
       "      <td>127.0</td>\n",
       "      <td>4746069.0</td>\n",
       "      <td>2250065105</td>\n",
       "    </tr>\n",
       "    <tr>\n",
       "      <th>33</th>\n",
       "      <td>34th</td>\n",
       "      <td>A+</td>\n",
       "      <td>InfantiLandia</td>\n",
       "      <td>710.0</td>\n",
       "      <td>7504480.0</td>\n",
       "      <td>2135402141</td>\n",
       "    </tr>\n",
       "    <tr>\n",
       "      <th>34</th>\n",
       "      <td>35th</td>\n",
       "      <td>A+</td>\n",
       "      <td>Top Breaking News</td>\n",
       "      <td>848.0</td>\n",
       "      <td>1120620.0</td>\n",
       "      <td>291002673</td>\n",
       "    </tr>\n",
       "    <tr>\n",
       "      <th>36</th>\n",
       "      <td>37th</td>\n",
       "      <td>A+</td>\n",
       "      <td>Goldmines Telefilms</td>\n",
       "      <td>206.0</td>\n",
       "      <td>14011180.0</td>\n",
       "      <td>555853544</td>\n",
       "    </tr>\n",
       "    <tr>\n",
       "      <th>38</th>\n",
       "      <td>39th</td>\n",
       "      <td>A+</td>\n",
       "      <td>[토이푸딩] ToyPudding TV</td>\n",
       "      <td>2201.0</td>\n",
       "      <td>18777612.0</td>\n",
       "      <td>11920370065</td>\n",
       "    </tr>\n",
       "    <tr>\n",
       "      <th>39</th>\n",
       "      <td>40th</td>\n",
       "      <td>A+</td>\n",
       "      <td>CKN Toys</td>\n",
       "      <td>431.0</td>\n",
       "      <td>8816598.0</td>\n",
       "      <td>7498069721</td>\n",
       "    </tr>\n",
       "    <tr>\n",
       "      <th>41</th>\n",
       "      <td>42nd</td>\n",
       "      <td>A+</td>\n",
       "      <td>Zé Neto e Cristiano</td>\n",
       "      <td>102.0</td>\n",
       "      <td>6154173.0</td>\n",
       "      <td>3232954352</td>\n",
       "    </tr>\n",
       "    <tr>\n",
       "      <th>43</th>\n",
       "      <td>44th</td>\n",
       "      <td>A+</td>\n",
       "      <td>GRAMMY GOLD OFFICIAL</td>\n",
       "      <td>2943.0</td>\n",
       "      <td>7385239.0</td>\n",
       "      <td>6480263464</td>\n",
       "    </tr>\n",
       "    <tr>\n",
       "      <th>45</th>\n",
       "      <td>46th</td>\n",
       "      <td>A+</td>\n",
       "      <td>Bouncing Baby TV</td>\n",
       "      <td>30.0</td>\n",
       "      <td>2869857.0</td>\n",
       "      <td>493923518</td>\n",
       "    </tr>\n",
       "    <tr>\n",
       "      <th>47</th>\n",
       "      <td>48th</td>\n",
       "      <td>A+</td>\n",
       "      <td>GR6 EXPLODE</td>\n",
       "      <td>2517.0</td>\n",
       "      <td>16813027.0</td>\n",
       "      <td>7609346952</td>\n",
       "    </tr>\n",
       "    <tr>\n",
       "      <th>48</th>\n",
       "      <td>49th</td>\n",
       "      <td>A+</td>\n",
       "      <td>Sony Music India</td>\n",
       "      <td>2204.0</td>\n",
       "      <td>15862389.0</td>\n",
       "      <td>6738087055</td>\n",
       "    </tr>\n",
       "    <tr>\n",
       "      <th>49</th>\n",
       "      <td>50th</td>\n",
       "      <td>A+</td>\n",
       "      <td>Infobells - Hindi</td>\n",
       "      <td>169.0</td>\n",
       "      <td>7546139.0</td>\n",
       "      <td>3919961629</td>\n",
       "    </tr>\n",
       "    <tr>\n",
       "      <th>50</th>\n",
       "      <td>51st</td>\n",
       "      <td>A+</td>\n",
       "      <td>T-Series Apna Punjab</td>\n",
       "      <td>3437.0</td>\n",
       "      <td>10055513.0</td>\n",
       "      <td>5384101851</td>\n",
       "    </tr>\n",
       "    <tr>\n",
       "      <th>52</th>\n",
       "      <td>53rd</td>\n",
       "      <td>A</td>\n",
       "      <td>Tips Official</td>\n",
       "      <td>2321.0</td>\n",
       "      <td>10384600.0</td>\n",
       "      <td>4589770470</td>\n",
       "    </tr>\n",
       "    <tr>\n",
       "      <th>...</th>\n",
       "      <td>...</td>\n",
       "      <td>...</td>\n",
       "      <td>...</td>\n",
       "      <td>...</td>\n",
       "      <td>...</td>\n",
       "      <td>...</td>\n",
       "    </tr>\n",
       "    <tr>\n",
       "      <th>4967</th>\n",
       "      <td>4,968th</td>\n",
       "      <td>B+</td>\n",
       "      <td>fishmarketbd</td>\n",
       "      <td>293.0</td>\n",
       "      <td>383644.0</td>\n",
       "      <td>122606879</td>\n",
       "    </tr>\n",
       "    <tr>\n",
       "      <th>4968</th>\n",
       "      <td>4,969th</td>\n",
       "      <td>B+</td>\n",
       "      <td>Eglence tv</td>\n",
       "      <td>499.0</td>\n",
       "      <td>365374.0</td>\n",
       "      <td>155343517</td>\n",
       "    </tr>\n",
       "    <tr>\n",
       "      <th>4969</th>\n",
       "      <td>4,970th</td>\n",
       "      <td>B+</td>\n",
       "      <td>Oleg Zotov</td>\n",
       "      <td>110.0</td>\n",
       "      <td>58780.0</td>\n",
       "      <td>11942164</td>\n",
       "    </tr>\n",
       "    <tr>\n",
       "      <th>4971</th>\n",
       "      <td>4,972nd</td>\n",
       "      <td>B+</td>\n",
       "      <td>SonyLIV</td>\n",
       "      <td>1206.0</td>\n",
       "      <td>2414713.0</td>\n",
       "      <td>483072980</td>\n",
       "    </tr>\n",
       "    <tr>\n",
       "      <th>4972</th>\n",
       "      <td>4,973rd</td>\n",
       "      <td>B+</td>\n",
       "      <td>Fanatik Klasik Film</td>\n",
       "      <td>2071.0</td>\n",
       "      <td>673787.0</td>\n",
       "      <td>509406756</td>\n",
       "    </tr>\n",
       "    <tr>\n",
       "      <th>4973</th>\n",
       "      <td>4,974th</td>\n",
       "      <td>B+</td>\n",
       "      <td>ของเล่นแสนสนุก…</td>\n",
       "      <td>202.0</td>\n",
       "      <td>829870.0</td>\n",
       "      <td>310449113</td>\n",
       "    </tr>\n",
       "    <tr>\n",
       "      <th>4974</th>\n",
       "      <td>4,975th</td>\n",
       "      <td>B+</td>\n",
       "      <td>Rahim Pardesi</td>\n",
       "      <td>153.0</td>\n",
       "      <td>1436546.0</td>\n",
       "      <td>498989227</td>\n",
       "    </tr>\n",
       "    <tr>\n",
       "      <th>4975</th>\n",
       "      <td>4,976th</td>\n",
       "      <td>B+</td>\n",
       "      <td>Funny Kids</td>\n",
       "      <td>1.0</td>\n",
       "      <td>150091.0</td>\n",
       "      <td>21933876</td>\n",
       "    </tr>\n",
       "    <tr>\n",
       "      <th>4976</th>\n",
       "      <td>4,977th</td>\n",
       "      <td>B+</td>\n",
       "      <td>AvonBR</td>\n",
       "      <td>297.0</td>\n",
       "      <td>229079.0</td>\n",
       "      <td>343820279</td>\n",
       "    </tr>\n",
       "    <tr>\n",
       "      <th>4977</th>\n",
       "      <td>4,978th</td>\n",
       "      <td>B+</td>\n",
       "      <td>Disney Channel Africa</td>\n",
       "      <td>2184.0</td>\n",
       "      <td>638404.0</td>\n",
       "      <td>596218763</td>\n",
       "    </tr>\n",
       "    <tr>\n",
       "      <th>4978</th>\n",
       "      <td>4,979th</td>\n",
       "      <td>B+</td>\n",
       "      <td>Рома Светленький</td>\n",
       "      <td>49.0</td>\n",
       "      <td>106628.0</td>\n",
       "      <td>20229141</td>\n",
       "    </tr>\n",
       "    <tr>\n",
       "      <th>4979</th>\n",
       "      <td>4,980th</td>\n",
       "      <td>B+</td>\n",
       "      <td>MonkeyBoo</td>\n",
       "      <td>707.0</td>\n",
       "      <td>1558006.0</td>\n",
       "      <td>441243129</td>\n",
       "    </tr>\n",
       "    <tr>\n",
       "      <th>4980</th>\n",
       "      <td>4,981st</td>\n",
       "      <td>B+</td>\n",
       "      <td>Screen Junkies</td>\n",
       "      <td>878.0</td>\n",
       "      <td>6532616.0</td>\n",
       "      <td>2090085291</td>\n",
       "    </tr>\n",
       "    <tr>\n",
       "      <th>4981</th>\n",
       "      <td>4,982nd</td>\n",
       "      <td>B+</td>\n",
       "      <td>Luli60able</td>\n",
       "      <td>5.0</td>\n",
       "      <td>158905.0</td>\n",
       "      <td>119924990</td>\n",
       "    </tr>\n",
       "    <tr>\n",
       "      <th>4983</th>\n",
       "      <td>4,984th</td>\n",
       "      <td>B+</td>\n",
       "      <td>Машинка Игрушка</td>\n",
       "      <td>242.0</td>\n",
       "      <td>219238.0</td>\n",
       "      <td>116728609</td>\n",
       "    </tr>\n",
       "    <tr>\n",
       "      <th>4984</th>\n",
       "      <td>4,985th</td>\n",
       "      <td>B+</td>\n",
       "      <td>Jean L</td>\n",
       "      <td>2116.0</td>\n",
       "      <td>2875705.0</td>\n",
       "      <td>673550521</td>\n",
       "    </tr>\n",
       "    <tr>\n",
       "      <th>4985</th>\n",
       "      <td>4,986th</td>\n",
       "      <td>B+</td>\n",
       "      <td>AndreaBocelliVEVO</td>\n",
       "      <td>191.0</td>\n",
       "      <td>820381.0</td>\n",
       "      <td>485771289</td>\n",
       "    </tr>\n",
       "    <tr>\n",
       "      <th>4987</th>\n",
       "      <td>4,988th</td>\n",
       "      <td>B+</td>\n",
       "      <td>YouANDi Games</td>\n",
       "      <td>1358.0</td>\n",
       "      <td>1536819.0</td>\n",
       "      <td>424688400</td>\n",
       "    </tr>\n",
       "    <tr>\n",
       "      <th>4988</th>\n",
       "      <td>4,989th</td>\n",
       "      <td>B+</td>\n",
       "      <td>GREAT IDEAS GREAT LIFE</td>\n",
       "      <td>80.0</td>\n",
       "      <td>1349511.0</td>\n",
       "      <td>46911690</td>\n",
       "    </tr>\n",
       "    <tr>\n",
       "      <th>4989</th>\n",
       "      <td>4,990th</td>\n",
       "      <td>B+</td>\n",
       "      <td>Kukuli</td>\n",
       "      <td>219.0</td>\n",
       "      <td>660742.0</td>\n",
       "      <td>437197125</td>\n",
       "    </tr>\n",
       "    <tr>\n",
       "      <th>4990</th>\n",
       "      <td>4,991st</td>\n",
       "      <td>B+</td>\n",
       "      <td>Ho Ngoc Ha's Official Channel</td>\n",
       "      <td>208.0</td>\n",
       "      <td>NaN</td>\n",
       "      <td>127185704</td>\n",
       "    </tr>\n",
       "    <tr>\n",
       "      <th>4991</th>\n",
       "      <td>4,992nd</td>\n",
       "      <td>B+</td>\n",
       "      <td>Toys to Learn Colors</td>\n",
       "      <td>11.0</td>\n",
       "      <td>663114.0</td>\n",
       "      <td>141933264</td>\n",
       "    </tr>\n",
       "    <tr>\n",
       "      <th>4992</th>\n",
       "      <td>4,993rd</td>\n",
       "      <td>B+</td>\n",
       "      <td>КАZКА</td>\n",
       "      <td>25.0</td>\n",
       "      <td>131766.0</td>\n",
       "      <td>74304638</td>\n",
       "    </tr>\n",
       "    <tr>\n",
       "      <th>4993</th>\n",
       "      <td>4,994th</td>\n",
       "      <td>B+</td>\n",
       "      <td>United CUBE (CUBE Entertainment…</td>\n",
       "      <td>1055.0</td>\n",
       "      <td>1586835.0</td>\n",
       "      <td>371299166</td>\n",
       "    </tr>\n",
       "    <tr>\n",
       "      <th>4994</th>\n",
       "      <td>4,995th</td>\n",
       "      <td>B+</td>\n",
       "      <td>Wings Marathi</td>\n",
       "      <td>1735.0</td>\n",
       "      <td>1099659.0</td>\n",
       "      <td>346175699</td>\n",
       "    </tr>\n",
       "    <tr>\n",
       "      <th>4995</th>\n",
       "      <td>4,996th</td>\n",
       "      <td>B+</td>\n",
       "      <td>Uras Benlioğlu</td>\n",
       "      <td>706.0</td>\n",
       "      <td>2072942.0</td>\n",
       "      <td>441202795</td>\n",
       "    </tr>\n",
       "    <tr>\n",
       "      <th>4996</th>\n",
       "      <td>4,997th</td>\n",
       "      <td>B+</td>\n",
       "      <td>HI-TECH MUSIC LTD</td>\n",
       "      <td>797.0</td>\n",
       "      <td>1055091.0</td>\n",
       "      <td>377331722</td>\n",
       "    </tr>\n",
       "    <tr>\n",
       "      <th>4997</th>\n",
       "      <td>4,998th</td>\n",
       "      <td>B+</td>\n",
       "      <td>Mastersaint</td>\n",
       "      <td>110.0</td>\n",
       "      <td>3265735.0</td>\n",
       "      <td>311758426</td>\n",
       "    </tr>\n",
       "    <tr>\n",
       "      <th>4998</th>\n",
       "      <td>4,999th</td>\n",
       "      <td>B+</td>\n",
       "      <td>Bruce McIntosh</td>\n",
       "      <td>3475.0</td>\n",
       "      <td>32990.0</td>\n",
       "      <td>14563764</td>\n",
       "    </tr>\n",
       "    <tr>\n",
       "      <th>4999</th>\n",
       "      <td>5,000th</td>\n",
       "      <td>B+</td>\n",
       "      <td>SehatAQUA</td>\n",
       "      <td>254.0</td>\n",
       "      <td>21172.0</td>\n",
       "      <td>73312511</td>\n",
       "    </tr>\n",
       "  </tbody>\n",
       "</table>\n",
       "<p>4447 rows × 6 columns</p>\n",
       "</div>"
      ],
      "text/plain": [
       "         Rank Grade                      Channel name  Video Uploads  \\\n",
       "2         3rd  A++         Cocomelon - Nursery Rhymes          373.0   \n",
       "8         9th  A++                    Ryan ToysReview         1140.0   \n",
       "10       11th   A+                    5-Minute Crafts         2085.0   \n",
       "11       12th   A+                    Canal KondZilla          822.0   \n",
       "12       13th   A+                   Like Nastya Vlog          150.0   \n",
       "13       14th   A+                              Ozuna           50.0   \n",
       "16       17th   A+                    WORLDSTARHIPHOP         4778.0   \n",
       "17       18th   A+                    Vlad and Nikita           53.0   \n",
       "18       19th   A+                            Badabun         3060.0   \n",
       "20       21st   A+                       xxxtentacion           48.0   \n",
       "21       22nd   A+                  Zee Music Company         3403.0   \n",
       "23       24th   A+                          DeadloxMC         1833.0   \n",
       "26       27th   A+                            ibighit          277.0   \n",
       "27       28th   A+                  El Reino Infantil          555.0   \n",
       "29       30th   A+                        Kirin AMV's          230.0   \n",
       "31       32nd   A+                         Stacy Toys           91.0   \n",
       "32       33rd   A+                    Toys and Colors          127.0   \n",
       "33       34th   A+                      InfantiLandia          710.0   \n",
       "34       35th   A+                  Top Breaking News          848.0   \n",
       "36       37th   A+                Goldmines Telefilms          206.0   \n",
       "38       39th   A+               [토이푸딩] ToyPudding TV         2201.0   \n",
       "39       40th   A+                           CKN Toys          431.0   \n",
       "41       42nd   A+                Zé Neto e Cristiano          102.0   \n",
       "43       44th   A+               GRAMMY GOLD OFFICIAL         2943.0   \n",
       "45       46th   A+                   Bouncing Baby TV           30.0   \n",
       "47       48th   A+                        GR6 EXPLODE         2517.0   \n",
       "48       49th   A+                   Sony Music India         2204.0   \n",
       "49       50th   A+                  Infobells - Hindi          169.0   \n",
       "50       51st   A+               T-Series Apna Punjab         3437.0   \n",
       "52       53rd    A                      Tips Official         2321.0   \n",
       "...       ...   ...                               ...            ...   \n",
       "4967  4,968th   B+                       fishmarketbd          293.0   \n",
       "4968  4,969th   B+                         Eglence tv          499.0   \n",
       "4969  4,970th   B+                         Oleg Zotov          110.0   \n",
       "4971  4,972nd   B+                            SonyLIV         1206.0   \n",
       "4972  4,973rd   B+                Fanatik Klasik Film         2071.0   \n",
       "4973  4,974th   B+                    ของเล่นแสนสนุก…          202.0   \n",
       "4974  4,975th   B+                      Rahim Pardesi          153.0   \n",
       "4975  4,976th   B+                         Funny Kids            1.0   \n",
       "4976  4,977th   B+                             AvonBR          297.0   \n",
       "4977  4,978th   B+              Disney Channel Africa         2184.0   \n",
       "4978  4,979th   B+                   Рома Светленький           49.0   \n",
       "4979  4,980th   B+                          MonkeyBoo          707.0   \n",
       "4980  4,981st   B+                     Screen Junkies          878.0   \n",
       "4981  4,982nd   B+                         Luli60able            5.0   \n",
       "4983  4,984th   B+                    Машинка Игрушка          242.0   \n",
       "4984  4,985th   B+                             Jean L         2116.0   \n",
       "4985  4,986th   B+                  AndreaBocelliVEVO          191.0   \n",
       "4987  4,988th   B+                      YouANDi Games         1358.0   \n",
       "4988  4,989th   B+             GREAT IDEAS GREAT LIFE           80.0   \n",
       "4989  4,990th   B+                             Kukuli          219.0   \n",
       "4990  4,991st   B+      Ho Ngoc Ha's Official Channel          208.0   \n",
       "4991  4,992nd   B+               Toys to Learn Colors           11.0   \n",
       "4992  4,993rd   B+                              КАZКА           25.0   \n",
       "4993  4,994th   B+   United CUBE (CUBE Entertainment…         1055.0   \n",
       "4994  4,995th   B+                      Wings Marathi         1735.0   \n",
       "4995  4,996th   B+                     Uras Benlioğlu          706.0   \n",
       "4996  4,997th   B+                  HI-TECH MUSIC LTD          797.0   \n",
       "4997  4,998th   B+                        Mastersaint          110.0   \n",
       "4998  4,999th   B+                     Bruce McIntosh         3475.0   \n",
       "4999  5,000th   B+                          SehatAQUA          254.0   \n",
       "\n",
       "      Subscribers  Video views  \n",
       "2      19238251.0   9793305082  \n",
       "8      16082927.0  24518098041  \n",
       "10     33492951.0   8587520379  \n",
       "11     39409726.0  19291034467  \n",
       "12      7662886.0   2540099931  \n",
       "13     18824912.0   8727783225  \n",
       "16     15830098.0  11102158475  \n",
       "17            NaN   1428274554  \n",
       "18     23603062.0   5860444053  \n",
       "20     11593509.0   2029279311  \n",
       "21     23440427.0  11666909155  \n",
       "23      2137907.0    245437560  \n",
       "26     16924523.0   3437613314  \n",
       "27     15836366.0  16395683234  \n",
       "29       459906.0    224608044  \n",
       "31      5992452.0   1576070985  \n",
       "32      4746069.0   2250065105  \n",
       "33      7504480.0   2135402141  \n",
       "34      1120620.0    291002673  \n",
       "36     14011180.0    555853544  \n",
       "38     18777612.0  11920370065  \n",
       "39      8816598.0   7498069721  \n",
       "41      6154173.0   3232954352  \n",
       "43      7385239.0   6480263464  \n",
       "45      2869857.0    493923518  \n",
       "47     16813027.0   7609346952  \n",
       "48     15862389.0   6738087055  \n",
       "49      7546139.0   3919961629  \n",
       "50     10055513.0   5384101851  \n",
       "52     10384600.0   4589770470  \n",
       "...           ...          ...  \n",
       "4967     383644.0    122606879  \n",
       "4968     365374.0    155343517  \n",
       "4969      58780.0     11942164  \n",
       "4971    2414713.0    483072980  \n",
       "4972     673787.0    509406756  \n",
       "4973     829870.0    310449113  \n",
       "4974    1436546.0    498989227  \n",
       "4975     150091.0     21933876  \n",
       "4976     229079.0    343820279  \n",
       "4977     638404.0    596218763  \n",
       "4978     106628.0     20229141  \n",
       "4979    1558006.0    441243129  \n",
       "4980    6532616.0   2090085291  \n",
       "4981     158905.0    119924990  \n",
       "4983     219238.0    116728609  \n",
       "4984    2875705.0    673550521  \n",
       "4985     820381.0    485771289  \n",
       "4987    1536819.0    424688400  \n",
       "4988    1349511.0     46911690  \n",
       "4989     660742.0    437197125  \n",
       "4990          NaN    127185704  \n",
       "4991     663114.0    141933264  \n",
       "4992     131766.0     74304638  \n",
       "4993    1586835.0    371299166  \n",
       "4994    1099659.0    346175699  \n",
       "4995    2072942.0    441202795  \n",
       "4996    1055091.0    377331722  \n",
       "4997    3265735.0    311758426  \n",
       "4998      32990.0     14563764  \n",
       "4999      21172.0     73312511  \n",
       "\n",
       "[4447 rows x 6 columns]"
      ]
     },
     "execution_count": 14,
     "metadata": {},
     "output_type": "execute_result"
    }
   ],
   "source": [
    "youtube[youtube[\"Video Uploads\"]<5000]"
   ]
  },
  {
   "cell_type": "markdown",
   "metadata": {},
   "source": [
    "# To find whether there is a  relationship between the number of video uploads and the number of subscribers by generating a plot."
   ]
  },
  {
   "cell_type": "code",
   "execution_count": 15,
   "metadata": {},
   "outputs": [
    {
     "data": {
      "text/plain": [
       "<matplotlib.axes._subplots.AxesSubplot at 0xc2c8e68f28>"
      ]
     },
     "execution_count": 15,
     "metadata": {},
     "output_type": "execute_result"
    },
    {
     "data": {
      "image/png": "[encoded data removed]",
      "text/plain": [
       "<Figure size 432x288 with 1 Axes>"
      ]
     },
     "metadata": {
      "needs_background": "light"
     },
     "output_type": "display_data"
    }
   ],
   "source": [
    "sns.scatterplot(x=youtube[\"Subscribers\"],y=youtube[\"Video Uploads\"])"
   ]
  },
  {
   "cell_type": "code",
   "execution_count": 16,
   "metadata": {},
   "outputs": [
    {
     "data": {
      "text/plain": [
       "<matplotlib.axes._subplots.AxesSubplot at 0xc2c309d470>"
      ]
     },
     "execution_count": 16,
     "metadata": {},
     "output_type": "execute_result"
    },
    {
     "data": {
      "image/png": "[encoded data removed]",
      "text/plain": [
       "<Figure size 432x288 with 2 Axes>"
      ]
     },
     "metadata": {
      "needs_background": "light"
     },
     "output_type": "display_data"
    }
   ],
   "source": [
    "sns.heatmap(youtube.corr(),annot = True)"
   ]
  },
  {
   "cell_type": "markdown",
   "metadata": {},
   "source": [
    "## CONCLUSION:The relation between Subscriber and Video uploads is evident and when there are less subscribers more number of videos are being uploaded. And the correlation is quite low.\n",
    " "
   ]
  },
  {
   "cell_type": "markdown",
   "metadata": {},
   "source": [
    "# To plot the distribution of video views for the top 500 channels."
   ]
  },
  {
   "cell_type": "code",
   "execution_count": 17,
   "metadata": {},
   "outputs": [],
   "source": [
    "top = youtube.head(500)"
   ]
  },
  {
   "cell_type": "code",
   "execution_count": 19,
   "metadata": {},
   "outputs": [
    {
     "data": {
      "text/html": [
       "<div>\n",
       "<style scoped>\n",
       "    .dataframe tbody tr th:only-of-type {\n",
       "        vertical-align: middle;\n",
       "    }\n",
       "\n",
       "    .dataframe tbody tr th {\n",
       "        vertical-align: top;\n",
       "    }\n",
       "\n",
       "    .dataframe thead th {\n",
       "        text-align: right;\n",
       "    }\n",
       "</style>\n",
       "<table border=\"1\" class=\"dataframe\">\n",
       "  <thead>\n",
       "    <tr style=\"text-align: right;\">\n",
       "      <th></th>\n",
       "      <th>Rank</th>\n",
       "      <th>Grade</th>\n",
       "      <th>Channel name</th>\n",
       "      <th>Video Uploads</th>\n",
       "      <th>Subscribers</th>\n",
       "      <th>Video views</th>\n",
       "    </tr>\n",
       "  </thead>\n",
       "  <tbody>\n",
       "    <tr>\n",
       "      <th>0</th>\n",
       "      <td>1st</td>\n",
       "      <td>A++</td>\n",
       "      <td>Zee TV</td>\n",
       "      <td>82757.0</td>\n",
       "      <td>18752951.0</td>\n",
       "      <td>20869786591</td>\n",
       "    </tr>\n",
       "    <tr>\n",
       "      <th>1</th>\n",
       "      <td>2nd</td>\n",
       "      <td>A++</td>\n",
       "      <td>T-Series</td>\n",
       "      <td>12661.0</td>\n",
       "      <td>61196302.0</td>\n",
       "      <td>47548839843</td>\n",
       "    </tr>\n",
       "    <tr>\n",
       "      <th>2</th>\n",
       "      <td>3rd</td>\n",
       "      <td>A++</td>\n",
       "      <td>Cocomelon - Nursery Rhymes</td>\n",
       "      <td>373.0</td>\n",
       "      <td>19238251.0</td>\n",
       "      <td>9793305082</td>\n",
       "    </tr>\n",
       "    <tr>\n",
       "      <th>3</th>\n",
       "      <td>4th</td>\n",
       "      <td>A++</td>\n",
       "      <td>SET India</td>\n",
       "      <td>27323.0</td>\n",
       "      <td>31180559.0</td>\n",
       "      <td>22675948293</td>\n",
       "    </tr>\n",
       "    <tr>\n",
       "      <th>4</th>\n",
       "      <td>5th</td>\n",
       "      <td>A++</td>\n",
       "      <td>WWE</td>\n",
       "      <td>36756.0</td>\n",
       "      <td>32852346.0</td>\n",
       "      <td>26273668433</td>\n",
       "    </tr>\n",
       "  </tbody>\n",
       "</table>\n",
       "</div>"
      ],
      "text/plain": [
       "  Rank Grade                Channel name  Video Uploads  Subscribers  \\\n",
       "0  1st  A++                       Zee TV        82757.0   18752951.0   \n",
       "1  2nd  A++                     T-Series        12661.0   61196302.0   \n",
       "2  3rd  A++   Cocomelon - Nursery Rhymes          373.0   19238251.0   \n",
       "3  4th  A++                    SET India        27323.0   31180559.0   \n",
       "4  5th  A++                          WWE        36756.0   32852346.0   \n",
       "\n",
       "   Video views  \n",
       "0  20869786591  \n",
       "1  47548839843  \n",
       "2   9793305082  \n",
       "3  22675948293  \n",
       "4  26273668433  "
      ]
     },
     "execution_count": 19,
     "metadata": {},
     "output_type": "execute_result"
    }
   ],
   "source": [
    "top.head()"
   ]
  },
  {
   "cell_type": "code",
   "execution_count": 20,
   "metadata": {},
   "outputs": [
    {
     "name": "stderr",
     "output_type": "stream",
     "text": [
      "C:\\Anaconda3\\lib\\site-packages\\scipy\\stats\\stats.py:1713: FutureWarning: Using a non-tuple sequence for multidimensional indexing is deprecated; use `arr[tuple(seq)]` instead of `arr[seq]`. In the future this will be interpreted as an array index, `arr[np.array(seq)]`, which will result either in an error or a different result.\n",
      "  return np.add.reduce(sorted[indexer] * weights, axis=axis) / sumval\n"
     ]
    },
    {
     "data": {
      "text/plain": [
       "<matplotlib.axes._subplots.AxesSubplot at 0xc2c3173940>"
      ]
     },
     "execution_count": 20,
     "metadata": {},
     "output_type": "execute_result"
    },
    {
     "data": {
      "image/png": "[encoded data removed]",
      "text/plain": [
       "<Figure size 432x288 with 1 Axes>"
      ]
     },
     "metadata": {
      "needs_background": "light"
     },
     "output_type": "display_data"
    }
   ],
   "source": [
    "sns.distplot(top[\"Video views\"],bins =10)"
   ]
  },
  {
   "cell_type": "markdown",
   "metadata": {},
   "source": [
    "# To plot a gradewise distribution of all the youtube channels."
   ]
  },
  {
   "cell_type": "code",
   "execution_count": 21,
   "metadata": {},
   "outputs": [
    {
     "data": {
      "text/plain": [
       "<matplotlib.axes._subplots.AxesSubplot at 0xc2c9990d30>"
      ]
     },
     "execution_count": 21,
     "metadata": {},
     "output_type": "execute_result"
    },
    {
     "data": {
      "image/png": "[encoded data removed]",
      "text/plain": [
       "<Figure size 432x288 with 1 Axes>"
      ]
     },
     "metadata": {
      "needs_background": "light"
     },
     "output_type": "display_data"
    }
   ],
   "source": [
    "sns.countplot(youtube.Grade)"
   ]
  },
  {
   "cell_type": "markdown",
   "metadata": {},
   "source": [
    "# To find the correlation by creating correlation matrix for the datasets and  plot the pairwise correlations."
   ]
  },
  {
   "cell_type": "code",
   "execution_count": 22,
   "metadata": {},
   "outputs": [
    {
     "data": {
      "text/html": [
       "<div>\n",
       "<style scoped>\n",
       "    .dataframe tbody tr th:only-of-type {\n",
       "        vertical-align: middle;\n",
       "    }\n",
       "\n",
       "    .dataframe tbody tr th {\n",
       "        vertical-align: top;\n",
       "    }\n",
       "\n",
       "    .dataframe thead th {\n",
       "        text-align: right;\n",
       "    }\n",
       "</style>\n",
       "<table border=\"1\" class=\"dataframe\">\n",
       "  <thead>\n",
       "    <tr style=\"text-align: right;\">\n",
       "      <th></th>\n",
       "      <th>Video Uploads</th>\n",
       "      <th>Subscribers</th>\n",
       "      <th>Video views</th>\n",
       "    </tr>\n",
       "  </thead>\n",
       "  <tbody>\n",
       "    <tr>\n",
       "      <th>Video Uploads</th>\n",
       "      <td>1.000000</td>\n",
       "      <td>0.011362</td>\n",
       "      <td>0.092436</td>\n",
       "    </tr>\n",
       "    <tr>\n",
       "      <th>Subscribers</th>\n",
       "      <td>0.011362</td>\n",
       "      <td>1.000000</td>\n",
       "      <td>0.791281</td>\n",
       "    </tr>\n",
       "    <tr>\n",
       "      <th>Video views</th>\n",
       "      <td>0.092436</td>\n",
       "      <td>0.791281</td>\n",
       "      <td>1.000000</td>\n",
       "    </tr>\n",
       "  </tbody>\n",
       "</table>\n",
       "</div>"
      ],
      "text/plain": [
       "               Video Uploads  Subscribers  Video views\n",
       "Video Uploads       1.000000     0.011362     0.092436\n",
       "Subscribers         0.011362     1.000000     0.791281\n",
       "Video views         0.092436     0.791281     1.000000"
      ]
     },
     "execution_count": 22,
     "metadata": {},
     "output_type": "execute_result"
    }
   ],
   "source": [
    "youtube.corr()"
   ]
  },
  {
   "cell_type": "code",
   "execution_count": 23,
   "metadata": {},
   "outputs": [
    {
     "data": {
      "text/plain": [
       "<matplotlib.axes._subplots.AxesSubplot at 0xc2c9a025c0>"
      ]
     },
     "execution_count": 23,
     "metadata": {},
     "output_type": "execute_result"
    },
    {
     "data": {
      "image/png": "[encoded data removed]",
      "text/plain": [
       "<Figure size 432x288 with 2 Axes>"
      ]
     },
     "metadata": {
      "needs_background": "light"
     },
     "output_type": "display_data"
    }
   ],
   "source": [
    "sns.heatmap(youtube.corr(),annot = True)"
   ]
  },
  {
   "cell_type": "code",
   "execution_count": 24,
   "metadata": {},
   "outputs": [
    {
     "name": "stderr",
     "output_type": "stream",
     "text": [
      "C:\\Anaconda3\\lib\\site-packages\\numpy\\lib\\histograms.py:754: RuntimeWarning: invalid value encountered in greater_equal\n",
      "  keep = (tmp_a >= first_edge)\n",
      "C:\\Anaconda3\\lib\\site-packages\\numpy\\lib\\histograms.py:755: RuntimeWarning: invalid value encountered in less_equal\n",
      "  keep &= (tmp_a <= last_edge)\n"
     ]
    },
    {
     "data": {
      "text/plain": [
       "<seaborn.axisgrid.PairGrid at 0xc2c9a02eb8>"
      ]
     },
     "execution_count": 24,
     "metadata": {},
     "output_type": "execute_result"
    },
    {
     "data": {
      "image/png": "[encoded data removed]",
      "text/plain": [
       "<Figure size 540x540 with 12 Axes>"
      ]
     },
     "metadata": {
      "needs_background": "light"
     },
     "output_type": "display_data"
    }
   ],
   "source": [
    "sns.pairplot(youtube)"
   ]
  },
  {
   "cell_type": "markdown",
   "metadata": {},
   "source": [
    "# Creating a new column in the dataset which contains the average number of subcribers per video upload and displaying the top 5 channels based on this calculated average."
   ]
  },
  {
   "cell_type": "code",
   "execution_count": 25,
   "metadata": {},
   "outputs": [],
   "source": [
    "youtube[\"Avg subscriber per video upload\"] = youtube[\"Subscribers\"]/youtube[\"Video Uploads\"]"
   ]
  },
  {
   "cell_type": "code",
   "execution_count": 26,
   "metadata": {},
   "outputs": [
    {
     "data": {
      "text/html": [
       "<div>\n",
       "<style scoped>\n",
       "    .dataframe tbody tr th:only-of-type {\n",
       "        vertical-align: middle;\n",
       "    }\n",
       "\n",
       "    .dataframe tbody tr th {\n",
       "        vertical-align: top;\n",
       "    }\n",
       "\n",
       "    .dataframe thead th {\n",
       "        text-align: right;\n",
       "    }\n",
       "</style>\n",
       "<table border=\"1\" class=\"dataframe\">\n",
       "  <thead>\n",
       "    <tr style=\"text-align: right;\">\n",
       "      <th></th>\n",
       "      <th>Rank</th>\n",
       "      <th>Grade</th>\n",
       "      <th>Channel name</th>\n",
       "      <th>Video Uploads</th>\n",
       "      <th>Subscribers</th>\n",
       "      <th>Video views</th>\n",
       "      <th>Avg subscriber per video upload</th>\n",
       "    </tr>\n",
       "  </thead>\n",
       "  <tbody>\n",
       "    <tr>\n",
       "      <th>0</th>\n",
       "      <td>1st</td>\n",
       "      <td>A++</td>\n",
       "      <td>Zee TV</td>\n",
       "      <td>82757.0</td>\n",
       "      <td>18752951.0</td>\n",
       "      <td>20869786591</td>\n",
       "      <td>226.602596</td>\n",
       "    </tr>\n",
       "    <tr>\n",
       "      <th>1</th>\n",
       "      <td>2nd</td>\n",
       "      <td>A++</td>\n",
       "      <td>T-Series</td>\n",
       "      <td>12661.0</td>\n",
       "      <td>61196302.0</td>\n",
       "      <td>47548839843</td>\n",
       "      <td>4833.449333</td>\n",
       "    </tr>\n",
       "    <tr>\n",
       "      <th>2</th>\n",
       "      <td>3rd</td>\n",
       "      <td>A++</td>\n",
       "      <td>Cocomelon - Nursery Rhymes</td>\n",
       "      <td>373.0</td>\n",
       "      <td>19238251.0</td>\n",
       "      <td>9793305082</td>\n",
       "      <td>51577.080429</td>\n",
       "    </tr>\n",
       "    <tr>\n",
       "      <th>3</th>\n",
       "      <td>4th</td>\n",
       "      <td>A++</td>\n",
       "      <td>SET India</td>\n",
       "      <td>27323.0</td>\n",
       "      <td>31180559.0</td>\n",
       "      <td>22675948293</td>\n",
       "      <td>1141.183582</td>\n",
       "    </tr>\n",
       "    <tr>\n",
       "      <th>4</th>\n",
       "      <td>5th</td>\n",
       "      <td>A++</td>\n",
       "      <td>WWE</td>\n",
       "      <td>36756.0</td>\n",
       "      <td>32852346.0</td>\n",
       "      <td>26273668433</td>\n",
       "      <td>893.795462</td>\n",
       "    </tr>\n",
       "  </tbody>\n",
       "</table>\n",
       "</div>"
      ],
      "text/plain": [
       "  Rank Grade                Channel name  Video Uploads  Subscribers  \\\n",
       "0  1st  A++                       Zee TV        82757.0   18752951.0   \n",
       "1  2nd  A++                     T-Series        12661.0   61196302.0   \n",
       "2  3rd  A++   Cocomelon - Nursery Rhymes          373.0   19238251.0   \n",
       "3  4th  A++                    SET India        27323.0   31180559.0   \n",
       "4  5th  A++                          WWE        36756.0   32852346.0   \n",
       "\n",
       "   Video views  Avg subscriber per video upload  \n",
       "0  20869786591                       226.602596  \n",
       "1  47548839843                      4833.449333  \n",
       "2   9793305082                     51577.080429  \n",
       "3  22675948293                      1141.183582  \n",
       "4  26273668433                       893.795462  "
      ]
     },
     "execution_count": 26,
     "metadata": {},
     "output_type": "execute_result"
    }
   ],
   "source": [
    "youtube.head(5)"
   ]
  },
  {
   "cell_type": "code",
   "execution_count": 27,
   "metadata": {},
   "outputs": [
    {
     "data": {
      "text/html": [
       "<div>\n",
       "<style scoped>\n",
       "    .dataframe tbody tr th:only-of-type {\n",
       "        vertical-align: middle;\n",
       "    }\n",
       "\n",
       "    .dataframe tbody tr th {\n",
       "        vertical-align: top;\n",
       "    }\n",
       "\n",
       "    .dataframe thead th {\n",
       "        text-align: right;\n",
       "    }\n",
       "</style>\n",
       "<table border=\"1\" class=\"dataframe\">\n",
       "  <thead>\n",
       "    <tr style=\"text-align: right;\">\n",
       "      <th></th>\n",
       "      <th>Rank</th>\n",
       "      <th>Grade</th>\n",
       "      <th>Channel name</th>\n",
       "      <th>Video Uploads</th>\n",
       "      <th>Subscribers</th>\n",
       "      <th>Video views</th>\n",
       "      <th>Avg subscriber per video upload</th>\n",
       "    </tr>\n",
       "  </thead>\n",
       "  <tbody>\n",
       "    <tr>\n",
       "      <th>4916</th>\n",
       "      <td>4,917th</td>\n",
       "      <td>B+</td>\n",
       "      <td>fouseyTUBE</td>\n",
       "      <td>2.0</td>\n",
       "      <td>10523367.0</td>\n",
       "      <td>593861</td>\n",
       "      <td>5.261684e+06</td>\n",
       "    </tr>\n",
       "    <tr>\n",
       "      <th>628</th>\n",
       "      <td>629th</td>\n",
       "      <td>A</td>\n",
       "      <td>cocoz toon</td>\n",
       "      <td>1.0</td>\n",
       "      <td>2162992.0</td>\n",
       "      <td>333012122</td>\n",
       "      <td>2.162992e+06</td>\n",
       "    </tr>\n",
       "    <tr>\n",
       "      <th>389</th>\n",
       "      <td>390th</td>\n",
       "      <td>A</td>\n",
       "      <td>Bad Bunny</td>\n",
       "      <td>11.0</td>\n",
       "      <td>12685253.0</td>\n",
       "      <td>2612504875</td>\n",
       "      <td>1.153205e+06</td>\n",
       "    </tr>\n",
       "    <tr>\n",
       "      <th>94</th>\n",
       "      <td>95th</td>\n",
       "      <td>A</td>\n",
       "      <td>Tekashi 6ix9ine</td>\n",
       "      <td>3.0</td>\n",
       "      <td>3108447.0</td>\n",
       "      <td>353018727</td>\n",
       "      <td>1.036149e+06</td>\n",
       "    </tr>\n",
       "    <tr>\n",
       "      <th>3263</th>\n",
       "      <td>3,264th</td>\n",
       "      <td>B+</td>\n",
       "      <td>AlfredoOlivasVEVO</td>\n",
       "      <td>2.0</td>\n",
       "      <td>1189424.0</td>\n",
       "      <td>42873889</td>\n",
       "      <td>5.947120e+05</td>\n",
       "    </tr>\n",
       "  </tbody>\n",
       "</table>\n",
       "</div>"
      ],
      "text/plain": [
       "         Rank Grade       Channel name  Video Uploads  Subscribers  \\\n",
       "4916  4,917th   B+          fouseyTUBE            2.0   10523367.0   \n",
       "628     629th    A          cocoz toon            1.0    2162992.0   \n",
       "389     390th    A           Bad Bunny           11.0   12685253.0   \n",
       "94       95th    A     Tekashi 6ix9ine            3.0    3108447.0   \n",
       "3263  3,264th   B+   AlfredoOlivasVEVO            2.0    1189424.0   \n",
       "\n",
       "      Video views  Avg subscriber per video upload  \n",
       "4916       593861                     5.261684e+06  \n",
       "628     333012122                     2.162992e+06  \n",
       "389    2612504875                     1.153205e+06  \n",
       "94      353018727                     1.036149e+06  \n",
       "3263     42873889                     5.947120e+05  "
      ]
     },
     "execution_count": 27,
     "metadata": {},
     "output_type": "execute_result"
    }
   ],
   "source": [
    "youtube.sort_values(by=\"Avg subscriber per video upload\",ascending = False).head(5)"
   ]
  },
  {
   "cell_type": "markdown",
   "metadata": {},
   "source": [
    "# For A++ grade channels, ploting the distributions for the following columns:\n",
    "a. Video Uploads\n",
    "b. Subscribers\n",
    "c. Video views\n"
   ]
  },
  {
   "cell_type": "code",
   "execution_count": 28,
   "metadata": {},
   "outputs": [],
   "source": [
    "a = youtube[youtube[\"Grade\"]==\"A++ \"]"
   ]
  },
  {
   "cell_type": "code",
   "execution_count": 29,
   "metadata": {},
   "outputs": [
    {
     "data": {
      "text/html": [
       "<div>\n",
       "<style scoped>\n",
       "    .dataframe tbody tr th:only-of-type {\n",
       "        vertical-align: middle;\n",
       "    }\n",
       "\n",
       "    .dataframe tbody tr th {\n",
       "        vertical-align: top;\n",
       "    }\n",
       "\n",
       "    .dataframe thead th {\n",
       "        text-align: right;\n",
       "    }\n",
       "</style>\n",
       "<table border=\"1\" class=\"dataframe\">\n",
       "  <thead>\n",
       "    <tr style=\"text-align: right;\">\n",
       "      <th></th>\n",
       "      <th>Rank</th>\n",
       "      <th>Grade</th>\n",
       "      <th>Channel name</th>\n",
       "      <th>Video Uploads</th>\n",
       "      <th>Subscribers</th>\n",
       "      <th>Video views</th>\n",
       "      <th>Avg subscriber per video upload</th>\n",
       "    </tr>\n",
       "  </thead>\n",
       "  <tbody>\n",
       "    <tr>\n",
       "      <th>0</th>\n",
       "      <td>1st</td>\n",
       "      <td>A++</td>\n",
       "      <td>Zee TV</td>\n",
       "      <td>82757.0</td>\n",
       "      <td>18752951.0</td>\n",
       "      <td>20869786591</td>\n",
       "      <td>226.602596</td>\n",
       "    </tr>\n",
       "    <tr>\n",
       "      <th>1</th>\n",
       "      <td>2nd</td>\n",
       "      <td>A++</td>\n",
       "      <td>T-Series</td>\n",
       "      <td>12661.0</td>\n",
       "      <td>61196302.0</td>\n",
       "      <td>47548839843</td>\n",
       "      <td>4833.449333</td>\n",
       "    </tr>\n",
       "    <tr>\n",
       "      <th>2</th>\n",
       "      <td>3rd</td>\n",
       "      <td>A++</td>\n",
       "      <td>Cocomelon - Nursery Rhymes</td>\n",
       "      <td>373.0</td>\n",
       "      <td>19238251.0</td>\n",
       "      <td>9793305082</td>\n",
       "      <td>51577.080429</td>\n",
       "    </tr>\n",
       "    <tr>\n",
       "      <th>3</th>\n",
       "      <td>4th</td>\n",
       "      <td>A++</td>\n",
       "      <td>SET India</td>\n",
       "      <td>27323.0</td>\n",
       "      <td>31180559.0</td>\n",
       "      <td>22675948293</td>\n",
       "      <td>1141.183582</td>\n",
       "    </tr>\n",
       "    <tr>\n",
       "      <th>4</th>\n",
       "      <td>5th</td>\n",
       "      <td>A++</td>\n",
       "      <td>WWE</td>\n",
       "      <td>36756.0</td>\n",
       "      <td>32852346.0</td>\n",
       "      <td>26273668433</td>\n",
       "      <td>893.795462</td>\n",
       "    </tr>\n",
       "    <tr>\n",
       "      <th>5</th>\n",
       "      <td>6th</td>\n",
       "      <td>A++</td>\n",
       "      <td>Movieclips</td>\n",
       "      <td>30243.0</td>\n",
       "      <td>17149705.0</td>\n",
       "      <td>16618094724</td>\n",
       "      <td>567.063618</td>\n",
       "    </tr>\n",
       "    <tr>\n",
       "      <th>6</th>\n",
       "      <td>7th</td>\n",
       "      <td>A++</td>\n",
       "      <td>netd müzik</td>\n",
       "      <td>8500.0</td>\n",
       "      <td>11373567.0</td>\n",
       "      <td>23898730764</td>\n",
       "      <td>1338.066706</td>\n",
       "    </tr>\n",
       "    <tr>\n",
       "      <th>7</th>\n",
       "      <td>8th</td>\n",
       "      <td>A++</td>\n",
       "      <td>ABS-CBN Entertainment</td>\n",
       "      <td>100147.0</td>\n",
       "      <td>12149206.0</td>\n",
       "      <td>17202609850</td>\n",
       "      <td>121.313729</td>\n",
       "    </tr>\n",
       "    <tr>\n",
       "      <th>8</th>\n",
       "      <td>9th</td>\n",
       "      <td>A++</td>\n",
       "      <td>Ryan ToysReview</td>\n",
       "      <td>1140.0</td>\n",
       "      <td>16082927.0</td>\n",
       "      <td>24518098041</td>\n",
       "      <td>14107.830702</td>\n",
       "    </tr>\n",
       "    <tr>\n",
       "      <th>9</th>\n",
       "      <td>10th</td>\n",
       "      <td>A++</td>\n",
       "      <td>Zee Marathi</td>\n",
       "      <td>74607.0</td>\n",
       "      <td>2841811.0</td>\n",
       "      <td>2591830307</td>\n",
       "      <td>38.090407</td>\n",
       "    </tr>\n",
       "  </tbody>\n",
       "</table>\n",
       "</div>"
      ],
      "text/plain": [
       "   Rank Grade                Channel name  Video Uploads  Subscribers  \\\n",
       "0   1st  A++                       Zee TV        82757.0   18752951.0   \n",
       "1   2nd  A++                     T-Series        12661.0   61196302.0   \n",
       "2   3rd  A++   Cocomelon - Nursery Rhymes          373.0   19238251.0   \n",
       "3   4th  A++                    SET India        27323.0   31180559.0   \n",
       "4   5th  A++                          WWE        36756.0   32852346.0   \n",
       "5   6th  A++                   Movieclips        30243.0   17149705.0   \n",
       "6   7th  A++                   netd müzik         8500.0   11373567.0   \n",
       "7   8th  A++        ABS-CBN Entertainment       100147.0   12149206.0   \n",
       "8   9th  A++              Ryan ToysReview         1140.0   16082927.0   \n",
       "9  10th  A++                  Zee Marathi        74607.0    2841811.0   \n",
       "\n",
       "   Video views  Avg subscriber per video upload  \n",
       "0  20869786591                       226.602596  \n",
       "1  47548839843                      4833.449333  \n",
       "2   9793305082                     51577.080429  \n",
       "3  22675948293                      1141.183582  \n",
       "4  26273668433                       893.795462  \n",
       "5  16618094724                       567.063618  \n",
       "6  23898730764                      1338.066706  \n",
       "7  17202609850                       121.313729  \n",
       "8  24518098041                     14107.830702  \n",
       "9   2591830307                        38.090407  "
      ]
     },
     "execution_count": 29,
     "metadata": {},
     "output_type": "execute_result"
    }
   ],
   "source": [
    "a"
   ]
  },
  {
   "cell_type": "code",
   "execution_count": 30,
   "metadata": {},
   "outputs": [
    {
     "data": {
      "text/plain": [
       "<matplotlib.axes._subplots.AxesSubplot at 0xc2c9eab438>"
      ]
     },
     "execution_count": 30,
     "metadata": {},
     "output_type": "execute_result"
    },
    {
     "data": {
      "image/png": "[encoded data removed]",
      "text/plain": [
       "<Figure size 432x288 with 1 Axes>"
      ]
     },
     "metadata": {
      "needs_background": "light"
     },
     "output_type": "display_data"
    }
   ],
   "source": [
    "sns.distplot(a[\"Video Uploads\"])"
   ]
  },
  {
   "cell_type": "code",
   "execution_count": 31,
   "metadata": {},
   "outputs": [
    {
     "data": {
      "text/plain": [
       "<matplotlib.axes._subplots.AxesSubplot at 0xc2c9f46588>"
      ]
     },
     "execution_count": 31,
     "metadata": {},
     "output_type": "execute_result"
    },
    {
     "data": {
      "image/png": "[encoded data removed]",
      "text/plain": [
       "<Figure size 432x288 with 1 Axes>"
      ]
     },
     "metadata": {
      "needs_background": "light"
     },
     "output_type": "display_data"
    }
   ],
   "source": [
    "sns.distplot(a[\"Subscribers\"])"
   ]
  },
  {
   "cell_type": "code",
   "execution_count": 32,
   "metadata": {},
   "outputs": [
    {
     "data": {
      "text/plain": [
       "<matplotlib.axes._subplots.AxesSubplot at 0xc2ca151780>"
      ]
     },
     "execution_count": 32,
     "metadata": {},
     "output_type": "execute_result"
    },
    {
     "data": {
      "image/png": "[encoded data removed]",
      "text/plain": [
       "<Figure size 432x288 with 1 Axes>"
      ]
     },
     "metadata": {
      "needs_background": "light"
     },
     "output_type": "display_data"
    }
   ],
   "source": [
    "sns.distplot(a[\"Video views\"])"
   ]
  },
  {
   "cell_type": "markdown",
   "metadata": {},
   "source": [
    "# Finding whether there are any outliers in the data by generating boxplots."
   ]
  },
  {
   "cell_type": "code",
   "execution_count": 33,
   "metadata": {},
   "outputs": [
    {
     "data": {
      "text/plain": [
       "<matplotlib.axes._subplots.AxesSubplot at 0xc2ca1c5ef0>"
      ]
     },
     "execution_count": 33,
     "metadata": {},
     "output_type": "execute_result"
    },
    {
     "data": {
      "image/png": "[encoded data removed]",
      "text/plain": [
       "<Figure size 432x288 with 1 Axes>"
      ]
     },
     "metadata": {
      "needs_background": "light"
     },
     "output_type": "display_data"
    }
   ],
   "source": [
    "sns.boxplot(youtube[\"Video Uploads\"],)"
   ]
  },
  {
   "cell_type": "code",
   "execution_count": 34,
   "metadata": {},
   "outputs": [
    {
     "data": {
      "text/plain": [
       "<matplotlib.axes._subplots.AxesSubplot at 0xc2ca20f588>"
      ]
     },
     "execution_count": 34,
     "metadata": {},
     "output_type": "execute_result"
    },
    {
     "data": {
      "image/png": "[encoded data removed]",
      "text/plain": [
       "<Figure size 432x288 with 1 Axes>"
      ]
     },
     "metadata": {
      "needs_background": "light"
     },
     "output_type": "display_data"
    }
   ],
   "source": [
    "sns.boxplot(youtube[\"Video views\"])"
   ]
  },
  {
   "cell_type": "code",
   "execution_count": 35,
   "metadata": {},
   "outputs": [
    {
     "data": {
      "text/plain": [
       "<matplotlib.axes._subplots.AxesSubplot at 0xc2ca26efd0>"
      ]
     },
     "execution_count": 35,
     "metadata": {},
     "output_type": "execute_result"
    },
    {
     "data": {
      "image/png": "[encoded data removed]",
      "text/plain": [
       "<Figure size 432x288 with 1 Axes>"
      ]
     },
     "metadata": {
      "needs_background": "light"
     },
     "output_type": "display_data"
    }
   ],
   "source": [
    "sns.boxplot(youtube[\"Subscribers\"])"
   ]
  },
  {
   "cell_type": "markdown",
   "metadata": {},
   "source": [
    "### CONCLUSION:There are a lot of outliers in Subscribers,Video Uploads and for video views."
   ]
  },
  {
   "cell_type": "code",
   "execution_count": null,
   "metadata": {},
   "outputs": [],
   "source": []
  },
  {
   "cell_type": "markdown",
   "metadata": {},
   "source": [
    "### Top 5 choices for channels which regularly release fresh videos."
   ]
  },
  {
   "cell_type": "code",
   "execution_count": 36,
   "metadata": {},
   "outputs": [
    {
     "data": {
      "text/plain": [
       "3453    AP Archive\n",
       "1149      YTN NEWS\n",
       "2223     SBS Drama\n",
       "323       GMA News\n",
       "2956           MLB\n",
       "Name: Channel name, dtype: object"
      ]
     },
     "execution_count": 36,
     "metadata": {},
     "output_type": "execute_result"
    }
   ],
   "source": [
    "youtube.sort_values([\"Video Uploads\"],ascending = False).head(5)[\"Channel name\"]"
   ]
  },
  {
   "cell_type": "markdown",
   "metadata": {},
   "source": [
    "### The best 10 channels with average views between 1000000 to 500000"
   ]
  },
  {
   "cell_type": "code",
   "execution_count": 37,
   "metadata": {},
   "outputs": [],
   "source": [
    "youtube[\"Avg views per video\"] = youtube[\"Video views\"]/youtube[\"Video Uploads\"]"
   ]
  },
  {
   "cell_type": "code",
   "execution_count": 38,
   "metadata": {},
   "outputs": [
    {
     "data": {
      "text/html": [
       "<div>\n",
       "<style scoped>\n",
       "    .dataframe tbody tr th:only-of-type {\n",
       "        vertical-align: middle;\n",
       "    }\n",
       "\n",
       "    .dataframe tbody tr th {\n",
       "        vertical-align: top;\n",
       "    }\n",
       "\n",
       "    .dataframe thead th {\n",
       "        text-align: right;\n",
       "    }\n",
       "</style>\n",
       "<table border=\"1\" class=\"dataframe\">\n",
       "  <thead>\n",
       "    <tr style=\"text-align: right;\">\n",
       "      <th></th>\n",
       "      <th>Rank</th>\n",
       "      <th>Grade</th>\n",
       "      <th>Channel name</th>\n",
       "      <th>Video Uploads</th>\n",
       "      <th>Subscribers</th>\n",
       "      <th>Video views</th>\n",
       "      <th>Avg subscriber per video upload</th>\n",
       "      <th>Avg views per video</th>\n",
       "    </tr>\n",
       "  </thead>\n",
       "  <tbody>\n",
       "    <tr>\n",
       "      <th>0</th>\n",
       "      <td>1st</td>\n",
       "      <td>A++</td>\n",
       "      <td>Zee TV</td>\n",
       "      <td>82757.0</td>\n",
       "      <td>18752951.0</td>\n",
       "      <td>20869786591</td>\n",
       "      <td>226.602596</td>\n",
       "      <td>2.521815e+05</td>\n",
       "    </tr>\n",
       "    <tr>\n",
       "      <th>1</th>\n",
       "      <td>2nd</td>\n",
       "      <td>A++</td>\n",
       "      <td>T-Series</td>\n",
       "      <td>12661.0</td>\n",
       "      <td>61196302.0</td>\n",
       "      <td>47548839843</td>\n",
       "      <td>4833.449333</td>\n",
       "      <td>3.755536e+06</td>\n",
       "    </tr>\n",
       "    <tr>\n",
       "      <th>2</th>\n",
       "      <td>3rd</td>\n",
       "      <td>A++</td>\n",
       "      <td>Cocomelon - Nursery Rhymes</td>\n",
       "      <td>373.0</td>\n",
       "      <td>19238251.0</td>\n",
       "      <td>9793305082</td>\n",
       "      <td>51577.080429</td>\n",
       "      <td>2.625551e+07</td>\n",
       "    </tr>\n",
       "    <tr>\n",
       "      <th>3</th>\n",
       "      <td>4th</td>\n",
       "      <td>A++</td>\n",
       "      <td>SET India</td>\n",
       "      <td>27323.0</td>\n",
       "      <td>31180559.0</td>\n",
       "      <td>22675948293</td>\n",
       "      <td>1141.183582</td>\n",
       "      <td>8.299216e+05</td>\n",
       "    </tr>\n",
       "    <tr>\n",
       "      <th>4</th>\n",
       "      <td>5th</td>\n",
       "      <td>A++</td>\n",
       "      <td>WWE</td>\n",
       "      <td>36756.0</td>\n",
       "      <td>32852346.0</td>\n",
       "      <td>26273668433</td>\n",
       "      <td>893.795462</td>\n",
       "      <td>7.148130e+05</td>\n",
       "    </tr>\n",
       "  </tbody>\n",
       "</table>\n",
       "</div>"
      ],
      "text/plain": [
       "  Rank Grade                Channel name  Video Uploads  Subscribers  \\\n",
       "0  1st  A++                       Zee TV        82757.0   18752951.0   \n",
       "1  2nd  A++                     T-Series        12661.0   61196302.0   \n",
       "2  3rd  A++   Cocomelon - Nursery Rhymes          373.0   19238251.0   \n",
       "3  4th  A++                    SET India        27323.0   31180559.0   \n",
       "4  5th  A++                          WWE        36756.0   32852346.0   \n",
       "\n",
       "   Video views  Avg subscriber per video upload  Avg views per video  \n",
       "0  20869786591                       226.602596         2.521815e+05  \n",
       "1  47548839843                      4833.449333         3.755536e+06  \n",
       "2   9793305082                     51577.080429         2.625551e+07  \n",
       "3  22675948293                      1141.183582         8.299216e+05  \n",
       "4  26273668433                       893.795462         7.148130e+05  "
      ]
     },
     "execution_count": 38,
     "metadata": {},
     "output_type": "execute_result"
    }
   ],
   "source": [
    "youtube.head()"
   ]
  },
  {
   "cell_type": "code",
   "execution_count": 39,
   "metadata": {},
   "outputs": [],
   "source": [
    "name =youtube[(youtube[\"Avg views per video\"]<=1000000) & (youtube[\"Avg views per video\"]>=500000)].head(10)"
   ]
  },
  {
   "cell_type": "markdown",
   "metadata": {},
   "source": [
    "### The ten best channels with average views between 1000000 and 500000 are:"
   ]
  },
  {
   "cell_type": "code",
   "execution_count": 59,
   "metadata": {},
   "outputs": [
    {
     "data": {
      "text/plain": [
       "3             SET India\n",
       "4                   WWE\n",
       "5            Movieclips\n",
       "14           Wave Music\n",
       "19    WorkpointOfficial\n",
       "29          Kirin AMV's\n",
       "53      Ultra Bollywood\n",
       "61         1theK (원더케이)\n",
       "67             Shemaroo\n",
       "77             Eros Now\n",
       "Name: Channel name, dtype: object"
      ]
     },
     "execution_count": 59,
     "metadata": {},
     "output_type": "execute_result"
    }
   ],
   "source": [
    "name[\"Channel name\"]"
   ]
  }
 ],
 "metadata": {
  "kernelspec": {
   "display_name": "Python 3",
   "language": "python",
   "name": "python3"
  },
  "language_info": {
   "codemirror_mode": {
    "name": "ipython",
    "version": 3
   },
   "file_extension": ".py",
   "mimetype": "text/x-python",
   "name": "python",
   "nbconvert_exporter": "python",
   "pygments_lexer": "ipython3",
   "version": "3.7.1"
  }
 },
 "nbformat": 4,
 "nbformat_minor": 2
}
